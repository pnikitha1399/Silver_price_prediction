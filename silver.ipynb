{
  "nbformat": 4,
  "nbformat_minor": 0,
  "metadata": {
    "colab": {
      "provenance": []
    },
    "kernelspec": {
      "name": "python3",
      "display_name": "Python 3"
    },
    "language_info": {
      "name": "python"
    }
  },
  "cells": [
    {
      "cell_type": "markdown",
      "source": [
        "## Import all needed libraries\n"
      ],
      "metadata": {
        "id": "Ex7GmqO-dEZ1"
      }
    },
    {
      "cell_type": "code",
      "source": [
        "import pandas as pd\n",
        "import numpy as np\n",
        "import yfinance as yf\n",
        "from sklearn.metrics import mean_absolute_error, mean_squared_error\n",
        "import warnings\n",
        "warnings.filterwarnings('ignore')"
      ],
      "metadata": {
        "id": "PkJ7yx1EcqpJ"
      },
      "execution_count": 1,
      "outputs": []
    },
    {
      "cell_type": "markdown",
      "source": [
        "## 1. LOAD DATA"
      ],
      "metadata": {
        "id": "b7rMPNQ4dLnW"
      }
    },
    {
      "cell_type": "code",
      "source": [
        "print(\"Loading silver price data...\")\n",
        "ticker = \"SI=F\"\n",
        "df = yf.download(ticker, start=\"2020-01-01\", progress=False)\n",
        "df = df[['Close']].copy()\n",
        "df.columns = ['Price']\n",
        "df = df.dropna().reset_index()\n",
        "\n",
        "print(f\"Data shape: {df.shape}\")\n",
        "print(f\"Date range: {df['Date'].min()} to {df['Date'].max()}\")\n",
        "print(f\"\\nRecent prices (last 10 days):\")\n",
        "print(df.tail(10)[['Date', 'Price']].to_string(index=False))"
      ],
      "metadata": {
        "colab": {
          "base_uri": "https://localhost:8080/"
        },
        "id": "H7adLcQfcsgp",
        "outputId": "7148ac31-61a1-4c77-ad16-3f95506d04fa"
      },
      "execution_count": 2,
      "outputs": [
        {
          "output_type": "stream",
          "name": "stdout",
          "text": [
            "Loading silver price data...\n",
            "Data shape: (1459, 2)\n",
            "Date range: 2020-01-02 00:00:00 to 2025-10-17 00:00:00\n",
            "\n",
            "Recent prices (last 10 days):\n",
            "      Date     Price\n",
            "2025-10-06 48.082001\n",
            "2025-10-07 47.179001\n",
            "2025-10-08 48.655998\n",
            "2025-10-09 46.849998\n",
            "2025-10-10 46.938000\n",
            "2025-10-13 50.130001\n",
            "2025-10-14 50.313999\n",
            "2025-10-15 51.073002\n",
            "2025-10-16 53.022999\n",
            "2025-10-17 49.863998\n"
          ]
        }
      ]
    },
    {
      "cell_type": "markdown",
      "source": [
        "## 2. ANALYZE RECENT TREND"
      ],
      "metadata": {
        "id": "wAMvKEKRdR_l"
      }
    },
    {
      "cell_type": "code",
      "source": [
        "print(\"ANALYZING RECENT PRICE MOVEMENT\")\n",
        "\n",
        "recent_30 = df.tail(30)\n",
        "recent_7 = df.tail(7)\n",
        "recent_3 = df.tail(3)\n",
        "\n",
        "avg_30 = recent_30['Price'].mean()\n",
        "avg_7 = recent_7['Price'].mean()\n",
        "avg_3 = recent_3['Price'].mean()\n",
        "\n",
        "print(f\"\\n30-day average: ${avg_30:.2f}\")\n",
        "print(f\"7-day average:  ${avg_7:.2f}\")\n",
        "print(f\"3-day average:  ${avg_3:.2f}\")\n",
        "print(f\"Current price:  ${df['Price'].iloc[-1]:.2f}\")\n",
        "\n",
        "volatility_30 = recent_30['Price'].std()\n",
        "volatility_7 = recent_7['Price'].std()\n",
        "\n",
        "print(f\"\\n30-day volatility: ${volatility_30:.2f}\")\n",
        "print(f\"7-day volatility:  ${volatility_7:.2f}\")"
      ],
      "metadata": {
        "colab": {
          "base_uri": "https://localhost:8080/"
        },
        "id": "Lz80G1OPcu1P",
        "outputId": "b24f28e8-b7ac-4469-edea-9571f793bc0a"
      },
      "execution_count": 9,
      "outputs": [
        {
          "output_type": "stream",
          "name": "stdout",
          "text": [
            "ANALYZING RECENT PRICE MOVEMENT\n",
            "\n",
            "30-day average: $45.57\n",
            "7-day average:  $49.74\n",
            "3-day average:  $51.32\n",
            "Current price:  $49.86\n",
            "\n",
            "30-day volatility: $3.37\n",
            "7-day volatility:  $2.21\n"
          ]
        }
      ]
    },
    {
      "cell_type": "markdown",
      "source": [
        "## 3. APPROACH 1: EXPONENTIAL SMOOTHING (gives more weight to recent data)"
      ],
      "metadata": {
        "id": "pApwokWJdW5P"
      }
    },
    {
      "cell_type": "code",
      "source": [
        "print(\"MODEL 1: EXPONENTIAL WEIGHTED MOVING AVERAGE\")\n",
        "\n",
        "def exponential_smoothing_forecast(series, alpha=0.3):\n",
        "    \"\"\"Simple exponential smoothing with custom alpha\"\"\"\n",
        "    result = [series.iloc[0]]\n",
        "    for i in range(1, len(series)):\n",
        "        result.append(alpha * series.iloc[i] + (1 - alpha) * result[i-1])\n",
        "    return result\n",
        "\n",
        "# Try different alpha values (higher = more weight on recent data)\n",
        "alphas = [0.2, 0.4, 0.6, 0.8]\n",
        "best_alpha = None\n",
        "best_mae = float('inf')\n",
        "\n",
        "print(\"\\nTesting different smoothing parameters on last 10 days:\")\n",
        "for alpha in alphas:\n",
        "    train = df['Price'].iloc[:-10]\n",
        "    test = df['Price'].iloc[-10:]\n",
        "\n",
        "    smoothed = exponential_smoothing_forecast(train, alpha)\n",
        "    last_smoothed = smoothed[-1]\n",
        "\n",
        "    # Forecast next 10 values\n",
        "    forecast = [last_smoothed]\n",
        "    for _ in range(9):\n",
        "        forecast.append(alpha * test.iloc[len(forecast)-1] + (1-alpha) * forecast[-1])\n",
        "\n",
        "    mae = mean_absolute_error(test, forecast)\n",
        "    print(f\"  Alpha={alpha}: MAE=${mae:.2f}\")\n",
        "\n",
        "    if mae < best_mae:\n",
        "        best_mae = mae\n",
        "        best_alpha = alpha\n",
        "\n",
        "print(f\"\\nBest alpha: {best_alpha}\")\n",
        "\n",
        "# Generate forecast with best alpha\n",
        "smoothed_full = exponential_smoothing_forecast(df['Price'], best_alpha)\n",
        "next_pred_ema = best_alpha * df['Price'].iloc[-1] + (1-best_alpha) * smoothed_full[-1]\n",
        "\n",
        "print(f\"Next day prediction: ${next_pred_ema:.2f}\")"
      ],
      "metadata": {
        "colab": {
          "base_uri": "https://localhost:8080/"
        },
        "id": "S17X3FuBcyM2",
        "outputId": "8477d63e-748d-4dea-c743-c1005d29d3c8"
      },
      "execution_count": 10,
      "outputs": [
        {
          "output_type": "stream",
          "name": "stdout",
          "text": [
            "MODEL 1: EXPONENTIAL WEIGHTED MOVING AVERAGE\n",
            "\n",
            "Testing different smoothing parameters on last 10 days:\n",
            "  Alpha=0.2: MAE=$1.90\n",
            "  Alpha=0.4: MAE=$1.54\n",
            "  Alpha=0.6: MAE=$1.49\n",
            "  Alpha=0.8: MAE=$1.43\n",
            "\n",
            "Best alpha: 0.8\n",
            "Next day prediction: $49.97\n"
          ]
        }
      ]
    },
    {
      "cell_type": "markdown",
      "source": [
        "## 4. APPROACH 2: ADAPTIVE WEIGHTED AVERAGE (recent days get exponentially more weight)"
      ],
      "metadata": {
        "id": "8yfBcqE-dZ_n"
      }
    },
    {
      "cell_type": "code",
      "source": [
        "print(\"MODEL 2: ADAPTIVE WEIGHTED AVERAGE\")\n",
        "\n",
        "def adaptive_weighted_forecast(series, window=7, decay=0.5):\n",
        "    \"\"\"Weighted average with exponential decay - recent days matter more\"\"\"\n",
        "    recent = series.iloc[-window:].values\n",
        "    weights = np.array([decay ** (window - i - 1) for i in range(window)])\n",
        "    weights = weights / weights.sum()\n",
        "    return np.sum(recent * weights)\n",
        "\n",
        "windows = [5, 7, 10, 14]\n",
        "print(\"\\nTesting different lookback windows:\")\n",
        "\n",
        "best_window = None\n",
        "best_decay = None\n",
        "best_mae = float('inf')\n",
        "\n",
        "for window in windows:\n",
        "    for decay in [0.3, 0.5, 0.7]:\n",
        "        predictions = []\n",
        "        actuals = []\n",
        "\n",
        "        # Test on last 10 days\n",
        "        for i in range(len(df) - 10, len(df)):\n",
        "            pred = adaptive_weighted_forecast(df['Price'].iloc[:i], window, decay)\n",
        "            predictions.append(pred)\n",
        "            actuals.append(df['Price'].iloc[i])\n",
        "\n",
        "        mae = mean_absolute_error(actuals, predictions)\n",
        "        print(f\"  Window={window:2d}, Decay={decay}: MAE=${mae:.2f}\")\n",
        "\n",
        "        if mae < best_mae:\n",
        "            best_mae = mae\n",
        "            best_window = window\n",
        "            best_decay = decay\n",
        "\n",
        "print(f\"\\nBest parameters: Window={best_window}, Decay={best_decay}\")\n",
        "next_pred_adaptive = adaptive_weighted_forecast(df['Price'], best_window, best_decay)\n",
        "print(f\"Next day prediction: ${next_pred_adaptive:.2f}\")"
      ],
      "metadata": {
        "colab": {
          "base_uri": "https://localhost:8080/"
        },
        "id": "BRo2ly_Dc1p1",
        "outputId": "b4a63396-969d-46e2-bbcb-ac9f529bfdde"
      },
      "execution_count": 11,
      "outputs": [
        {
          "output_type": "stream",
          "name": "stdout",
          "text": [
            "MODEL 2: ADAPTIVE WEIGHTED AVERAGE\n",
            "\n",
            "Testing different lookback windows:\n",
            "  Window= 5, Decay=0.3: MAE=$1.46\n",
            "  Window= 5, Decay=0.5: MAE=$1.51\n",
            "  Window= 5, Decay=0.7: MAE=$1.55\n",
            "  Window= 7, Decay=0.3: MAE=$1.46\n",
            "  Window= 7, Decay=0.5: MAE=$1.51\n",
            "  Window= 7, Decay=0.7: MAE=$1.55\n",
            "  Window=10, Decay=0.3: MAE=$1.46\n",
            "  Window=10, Decay=0.5: MAE=$1.51\n",
            "  Window=10, Decay=0.7: MAE=$1.58\n",
            "  Window=14, Decay=0.3: MAE=$1.46\n",
            "  Window=14, Decay=0.5: MAE=$1.51\n",
            "  Window=14, Decay=0.7: MAE=$1.61\n",
            "\n",
            "Best parameters: Window=7, Decay=0.3\n",
            "Next day prediction: $50.61\n"
          ]
        }
      ]
    },
    {
      "cell_type": "markdown",
      "source": [
        "## 5. APPROACH 3: MOMENTUM-BASED FORECAST"
      ],
      "metadata": {
        "id": "BehuyTlYddIq"
      }
    },
    {
      "cell_type": "code",
      "source": [
        "print(\"MODEL 3: MOMENTUM-BASED FORECAST\")\n",
        "\n",
        "def momentum_forecast(series, momentum_window=3, trend_window=7):\n",
        "    \"\"\"Use recent momentum to project forward\"\"\"\n",
        "    recent = series.iloc[-momentum_window:]\n",
        "    momentum = (recent.iloc[-1] - recent.iloc[0]) / momentum_window\n",
        "\n",
        "    # Also consider longer trend\n",
        "    longer = series.iloc[-trend_window:]\n",
        "    trend = (longer.iloc[-1] - longer.iloc[0]) / trend_window\n",
        "\n",
        "    # Weighted combination\n",
        "    combined_momentum = 0.7 * momentum + 0.3 * trend\n",
        "\n",
        "    return series.iloc[-1] + combined_momentum\n",
        "\n",
        "# Test different windows\n",
        "print(\"\\nTesting different momentum windows:\")\n",
        "best_mom_mae = float('inf')\n",
        "best_mom_window = None\n",
        "best_trend_window = None\n",
        "\n",
        "for mom_win in [2, 3, 5]:\n",
        "    for trend_win in [5, 7, 10]:\n",
        "        predictions = []\n",
        "        actuals = []\n",
        "\n",
        "        for i in range(len(df) - 10, len(df)):\n",
        "            pred = momentum_forecast(df['Price'].iloc[:i], mom_win, trend_win)\n",
        "            predictions.append(pred)\n",
        "            actuals.append(df['Price'].iloc[i])\n",
        "\n",
        "        mae = mean_absolute_error(actuals, predictions)\n",
        "        print(f\"  Momentum={mom_win}, Trend={trend_win}: MAE=${mae:.2f}\")\n",
        "\n",
        "        if mae < best_mom_mae:\n",
        "            best_mom_mae = mae\n",
        "            best_mom_window = mom_win\n",
        "            best_trend_window = trend_win\n",
        "\n",
        "print(f\"\\nBest parameters: Momentum={best_mom_window}, Trend={best_trend_window}\")\n",
        "next_pred_momentum = momentum_forecast(df['Price'], best_mom_window, best_trend_window)\n",
        "print(f\"Next day prediction: ${next_pred_momentum:.2f}\")"
      ],
      "metadata": {
        "colab": {
          "base_uri": "https://localhost:8080/"
        },
        "id": "B6wihmvqc5GO",
        "outputId": "8cc944d7-1376-43f3-b7f2-eb277ed02562"
      },
      "execution_count": 12,
      "outputs": [
        {
          "output_type": "stream",
          "name": "stdout",
          "text": [
            "MODEL 3: MOMENTUM-BASED FORECAST\n",
            "\n",
            "Testing different momentum windows:\n",
            "  Momentum=2, Trend=5: MAE=$1.69\n",
            "  Momentum=2, Trend=7: MAE=$1.66\n",
            "  Momentum=2, Trend=10: MAE=$1.66\n",
            "  Momentum=3, Trend=5: MAE=$1.59\n",
            "  Momentum=3, Trend=7: MAE=$1.54\n",
            "  Momentum=3, Trend=10: MAE=$1.54\n",
            "  Momentum=5, Trend=5: MAE=$1.54\n",
            "  Momentum=5, Trend=7: MAE=$1.49\n",
            "  Momentum=5, Trend=10: MAE=$1.49\n",
            "\n",
            "Best parameters: Momentum=5, Trend=10\n",
            "Next day prediction: $49.88\n"
          ]
        }
      ]
    },
    {
      "cell_type": "markdown",
      "source": [
        "## 6. APPROACH 4: NAIVE METHODS (sometimes best during volatility)"
      ],
      "metadata": {
        "id": "y1e-aBoLdgQi"
      }
    },
    {
      "cell_type": "code",
      "source": [
        "print(\"MODEL 4: NAIVE FORECASTING METHODS\")\n",
        "\n",
        "# Naive forecast 1: Last value\n",
        "naive_last = df['Price'].iloc[-1]\n",
        "print(f\"1. Last Value:           ${naive_last:.2f}\")\n",
        "\n",
        "# Naive forecast 2: Average of last 3 days\n",
        "naive_avg3 = df['Price'].iloc[-3:].mean()\n",
        "print(f\"2. 3-day Average:        ${naive_avg3:.2f}\")\n",
        "\n",
        "# Naive forecast 3: Median of last 5 days (robust to outliers)\n",
        "naive_median5 = df['Price'].iloc[-5:].median()\n",
        "print(f\"3. 5-day Median:         ${naive_median5:.2f}\")\n",
        "\n",
        "# Naive forecast 4: Weighted recent (60% yesterday, 30% day before, 10% 3 days ago)\n",
        "naive_weighted = 0.6 * df['Price'].iloc[-1] + 0.3 * df['Price'].iloc[-2] + 0.1 * df['Price'].iloc[-3]\n",
        "print(f\"4. Weighted Recent:      ${naive_weighted:.2f}\")\n",
        "\n",
        "# Test which naive method works best\n",
        "test_size = 10\n",
        "naive_methods = {\n",
        "    'Last Value': lambda s: s.iloc[-1],\n",
        "    '3-day Average': lambda s: s.iloc[-3:].mean(),\n",
        "    '5-day Median': lambda s: s.iloc[-5:].median(),\n",
        "    'Weighted Recent': lambda s: 0.6 * s.iloc[-1] + 0.3 * s.iloc[-2] + 0.1 * s.iloc[-3]\n",
        "}\n",
        "\n",
        "print(\"\\nTesting on last 10 days:\")\n",
        "for name, method in naive_methods.items():\n",
        "    predictions = []\n",
        "    actuals = []\n",
        "    for i in range(len(df) - test_size, len(df)):\n",
        "        pred = method(df['Price'].iloc[:i])\n",
        "        predictions.append(pred)\n",
        "        actuals.append(df['Price'].iloc[i])\n",
        "    mae = mean_absolute_error(actuals, predictions)\n",
        "    print(f\"  {name:20s}: MAE=${mae:.2f}\")"
      ],
      "metadata": {
        "colab": {
          "base_uri": "https://localhost:8080/"
        },
        "id": "KI6I_i7Rc9C0",
        "outputId": "40227dc2-3de2-409b-8be3-dc5fe3479f3a"
      },
      "execution_count": 13,
      "outputs": [
        {
          "output_type": "stream",
          "name": "stdout",
          "text": [
            "MODEL 4: NAIVE FORECASTING METHODS\n",
            "1. Last Value:           $49.86\n",
            "2. 3-day Average:        $51.32\n",
            "3. 5-day Median:         $50.31\n",
            "4. Weighted Recent:      $50.93\n",
            "\n",
            "Testing on last 10 days:\n",
            "  Last Value          : MAE=$1.40\n",
            "  3-day Average       : MAE=$1.50\n",
            "  5-day Median        : MAE=$1.62\n",
            "  Weighted Recent     : MAE=$1.47\n"
          ]
        }
      ]
    },
    {
      "cell_type": "markdown",
      "source": [
        "## 7. ENSEMBLE OF BEST METHODS"
      ],
      "metadata": {
        "id": "A4Py_9OfdkD9"
      }
    },
    {
      "cell_type": "code",
      "source": [
        "print(\"ENSEMBLE FORECAST\")\n",
        "\n",
        "# Combine the predictions with equal weight (or optimize weights)\n",
        "all_predictions = [\n",
        "    next_pred_ema,\n",
        "    next_pred_adaptive,\n",
        "    next_pred_momentum,\n",
        "    naive_last,\n",
        "    naive_avg3,\n",
        "    naive_median5,\n",
        "    naive_weighted\n",
        "]\n",
        "\n",
        "# Simple average\n",
        "ensemble_simple = np.mean(all_predictions)\n",
        "\n",
        "# Median (more robust to outliers)\n",
        "ensemble_median = np.median(all_predictions)\n",
        "\n",
        "# Trimmed mean (remove highest and lowest)\n",
        "sorted_preds = sorted(all_predictions)\n",
        "ensemble_trimmed = np.mean(sorted_preds[1:-1])\n",
        "\n",
        "print(f\"\\nAll individual predictions:\")\n",
        "print(f\"  EMA:                ${next_pred_ema:.2f}\")\n",
        "print(f\"  Adaptive Weighted:  ${next_pred_adaptive:.2f}\")\n",
        "print(f\"  Momentum:           ${next_pred_momentum:.2f}\")\n",
        "print(f\"  Naive Last:         ${naive_last:.2f}\")\n",
        "print(f\"  Naive 3-day Avg:    ${naive_avg3:.2f}\")\n",
        "print(f\"  Naive 5-day Median: ${naive_median5:.2f}\")\n",
        "print(f\"  Naive Weighted:     ${naive_weighted:.2f}\")\n",
        "\n",
        "print(f\"\\nEnsemble predictions:\")\n",
        "print(f\"  Simple Average:     ${ensemble_simple:.2f}\")\n",
        "print(f\"  Median:             ${ensemble_median:.2f}\")\n",
        "print(f\"  Trimmed Mean:       ${ensemble_trimmed:.2f}\")\n",
        "\n",
        "current_price = df['Price'].iloc[-1]\n",
        "print(f\"\\n\")\n",
        "print(f\"CURRENT PRICE: ${current_price:.2f}\")\n",
        "print(f\"RECOMMENDED FORECAST (Trimmed Mean): ${ensemble_trimmed:.2f}\")\n",
        "print(f\"Change: ${ensemble_trimmed - current_price:+.2f} ({(ensemble_trimmed - current_price)/current_price * 100:+.2f}%)\")"
      ],
      "metadata": {
        "colab": {
          "base_uri": "https://localhost:8080/"
        },
        "id": "zHGfFLvJtGko",
        "outputId": "cbf9e242-26d8-402b-9d32-2f40684d1d18"
      },
      "execution_count": 16,
      "outputs": [
        {
          "output_type": "stream",
          "name": "stdout",
          "text": [
            "ENSEMBLE FORECAST\n",
            "\n",
            "All individual predictions:\n",
            "  EMA:                $49.97\n",
            "  Adaptive Weighted:  $50.61\n",
            "  Momentum:           $49.88\n",
            "  Naive Last:         $49.86\n",
            "  Naive 3-day Avg:    $51.32\n",
            "  Naive 5-day Median: $50.31\n",
            "  Naive Weighted:     $50.93\n",
            "\n",
            "Ensemble predictions:\n",
            "  Simple Average:     $50.41\n",
            "  Median:             $50.31\n",
            "  Trimmed Mean:       $50.34\n",
            "\n",
            "\n",
            "CURRENT PRICE: $49.86\n",
            "RECOMMENDED FORECAST (Trimmed Mean): $50.34\n",
            "Change: $+0.48 (+0.96%)\n"
          ]
        }
      ]
    },
    {
      "cell_type": "code",
      "source": [
        "print(\"IMPORTANT NOTES\")\n",
        "print(\"\"\"\n",
        "1. During extreme volatility (like recent spike from $50 to $53+),\n",
        "   traditional ML models fail because they've never seen this pattern.\n",
        "\n",
        "2. Time series methods (especially naive methods) often work better\n",
        "   during regime changes because they:\n",
        "   - Don't rely on historical patterns\n",
        "   - Give most weight to very recent data\n",
        "   - Are more adaptive to sudden changes\n",
        "\n",
        "3. The trimmed mean ensemble removes extreme predictions and provides\n",
        "   a more stable forecast.\n",
        "\n",
        "4. Given the massive drop from $53 to $49.86 in one day, the market\n",
        "   is showing high volatility. Consider:\n",
        "   - Using the median forecast (most robust)\n",
        "   - Shortening prediction horizon to hours, not days\n",
        "   - Adding external data (USD index, inflation news, etc.)\n",
        "\n",
        "5. For trading decisions, focus on ranges rather than point estimates:\n",
        "   - Likely range: $48 - $52\n",
        "   - Watch for continued volatility\n",
        "\"\"\")"
      ],
      "metadata": {
        "colab": {
          "base_uri": "https://localhost:8080/"
        },
        "id": "BPXAAEJJdkx9",
        "outputId": "3337765e-73c2-4f82-9665-a21edcab4bb5"
      },
      "execution_count": 17,
      "outputs": [
        {
          "output_type": "stream",
          "name": "stdout",
          "text": [
            "IMPORTANT NOTES\n",
            "\n",
            "1. During extreme volatility (like recent spike from $50 to $53+), \n",
            "   traditional ML models fail because they've never seen this pattern.\n",
            "\n",
            "2. Time series methods (especially naive methods) often work better \n",
            "   during regime changes because they:\n",
            "   - Don't rely on historical patterns\n",
            "   - Give most weight to very recent data\n",
            "   - Are more adaptive to sudden changes\n",
            "\n",
            "3. The trimmed mean ensemble removes extreme predictions and provides\n",
            "   a more stable forecast.\n",
            "\n",
            "4. Given the massive drop from $53 to $49.86 in one day, the market\n",
            "   is showing high volatility. Consider:\n",
            "   - Using the median forecast (most robust)\n",
            "   - Shortening prediction horizon to hours, not days\n",
            "   - Adding external data (USD index, inflation news, etc.)\n",
            "   \n",
            "5. For trading decisions, focus on ranges rather than point estimates:\n",
            "   - Likely range: $48 - $52\n",
            "   - Watch for continued volatility\n",
            "\n"
          ]
        }
      ]
    },
    {
      "cell_type": "code",
      "source": [],
      "metadata": {
        "id": "Vw_BLgY9UN5W"
      },
      "execution_count": null,
      "outputs": []
    }
  ]
}